{
  "nbformat": 4,
  "nbformat_minor": 0,
  "metadata": {
    "colab": {
      "name": "Deogratias_Amani_books_recommender_system_optimized_Model.ipynb",
      "provenance": [],
      "include_colab_link": true
    },
    "kernelspec": {
      "name": "python3",
      "display_name": "Python 3"
    },
    "accelerator": "GPU"
  },
  "cells": [
    {
      "cell_type": "markdown",
      "metadata": {
        "id": "view-in-github",
        "colab_type": "text"
      },
      "source": [
        "<a href=\"https://colab.research.google.com/github/ADeogratias/book_recommender_model_deployment/blob/main/Deogratias_Amani_books_recommender_system_optimized_Model.ipynb\" target=\"_parent\"><img src=\"https://colab.research.google.com/assets/colab-badge.svg\" alt=\"Open In Colab\"/></a>"
      ]
    },
    {
      "cell_type": "code",
      "metadata": {
        "id": "IpLvDiN0gJQZ"
      },
      "source": [
        "import numpy as np\n",
        "import pandas as pd\n",
        "import matplotlib.pyplot as plt\n",
        "import os\n",
        "import warnings\n",
        "\n",
        "warnings.filterwarnings('ignore')\n",
        "%matplotlib inline\n",
        "\n",
        "import tensorflow.keras as tf"
      ],
      "execution_count": 1,
      "outputs": []
    },
    {
      "cell_type": "code",
      "metadata": {
        "id": "TEldeHYzqlEc"
      },
      "source": [
        "from google.colab import drive"
      ],
      "execution_count": 2,
      "outputs": []
    },
    {
      "cell_type": "code",
      "metadata": {
        "id": "q03zP1oVzGzn",
        "colab": {
          "base_uri": "https://localhost:8080/"
        },
        "outputId": "e2be1ef4-6079-41f3-c140-6ed0f2da8ce3"
      },
      "source": [
        "drive.mount('/content/gdrive')"
      ],
      "execution_count": 3,
      "outputs": [
        {
          "output_type": "stream",
          "text": [
            "Mounted at /content/gdrive\n"
          ],
          "name": "stdout"
        }
      ]
    },
    {
      "cell_type": "code",
      "metadata": {
        "id": "T7B51byirf99",
        "colab": {
          "base_uri": "https://localhost:8080/"
        },
        "outputId": "4cd540fb-959c-4f8d-8d3c-7a60286d3084"
      },
      "source": [
        "! ls \"/content/gdrive/My Drive/rec_sys_goodbooks-10k\""
      ],
      "execution_count": 4,
      "outputs": [
        {
          "output_type": "stream",
          "text": [
            "books.csv  book_tags.csv  ratings.csv  tags.csv  to_read.csv\n"
          ],
          "name": "stdout"
        }
      ]
    },
    {
      "cell_type": "code",
      "metadata": {
        "id": "3XHmRsKTVmT4"
      },
      "source": [
        "ratings_df = pd.read_csv(\"/content/gdrive/My Drive/rec_sys_goodbooks-10k/ratings.csv\")\n",
        "books_df = pd.read_csv(\"/content/gdrive/My Drive/rec_sys_goodbooks-10k/books.csv\")"
      ],
      "execution_count": 5,
      "outputs": []
    },
    {
      "cell_type": "code",
      "metadata": {
        "colab": {
          "base_uri": "https://localhost:8080/",
          "height": 195
        },
        "id": "fNKJTbkZiwqH",
        "outputId": "91f01b19-5c25-4fdd-8f6d-b8a1713f6e53"
      },
      "source": [
        "ratings_df.head()"
      ],
      "execution_count": 6,
      "outputs": [
        {
          "output_type": "execute_result",
          "data": {
            "text/html": [
              "<div>\n",
              "<style scoped>\n",
              "    .dataframe tbody tr th:only-of-type {\n",
              "        vertical-align: middle;\n",
              "    }\n",
              "\n",
              "    .dataframe tbody tr th {\n",
              "        vertical-align: top;\n",
              "    }\n",
              "\n",
              "    .dataframe thead th {\n",
              "        text-align: right;\n",
              "    }\n",
              "</style>\n",
              "<table border=\"1\" class=\"dataframe\">\n",
              "  <thead>\n",
              "    <tr style=\"text-align: right;\">\n",
              "      <th></th>\n",
              "      <th>user_id</th>\n",
              "      <th>book_id</th>\n",
              "      <th>rating</th>\n",
              "    </tr>\n",
              "  </thead>\n",
              "  <tbody>\n",
              "    <tr>\n",
              "      <th>0</th>\n",
              "      <td>1</td>\n",
              "      <td>258</td>\n",
              "      <td>5</td>\n",
              "    </tr>\n",
              "    <tr>\n",
              "      <th>1</th>\n",
              "      <td>2</td>\n",
              "      <td>4081</td>\n",
              "      <td>4</td>\n",
              "    </tr>\n",
              "    <tr>\n",
              "      <th>2</th>\n",
              "      <td>2</td>\n",
              "      <td>260</td>\n",
              "      <td>5</td>\n",
              "    </tr>\n",
              "    <tr>\n",
              "      <th>3</th>\n",
              "      <td>2</td>\n",
              "      <td>9296</td>\n",
              "      <td>5</td>\n",
              "    </tr>\n",
              "    <tr>\n",
              "      <th>4</th>\n",
              "      <td>2</td>\n",
              "      <td>2318</td>\n",
              "      <td>3</td>\n",
              "    </tr>\n",
              "  </tbody>\n",
              "</table>\n",
              "</div>"
            ],
            "text/plain": [
              "   user_id  book_id  rating\n",
              "0        1      258       5\n",
              "1        2     4081       4\n",
              "2        2      260       5\n",
              "3        2     9296       5\n",
              "4        2     2318       3"
            ]
          },
          "metadata": {
            "tags": []
          },
          "execution_count": 6
        }
      ]
    },
    {
      "cell_type": "code",
      "metadata": {
        "colab": {
          "base_uri": "https://localhost:8080/",
          "height": 417
        },
        "id": "3LQOdQtPi-Ay",
        "outputId": "2eb1ef52-9860-4356-e2c6-4b9a7ef71930"
      },
      "source": [
        "books_df.head()"
      ],
      "execution_count": 7,
      "outputs": [
        {
          "output_type": "execute_result",
          "data": {
            "text/html": [
              "<div>\n",
              "<style scoped>\n",
              "    .dataframe tbody tr th:only-of-type {\n",
              "        vertical-align: middle;\n",
              "    }\n",
              "\n",
              "    .dataframe tbody tr th {\n",
              "        vertical-align: top;\n",
              "    }\n",
              "\n",
              "    .dataframe thead th {\n",
              "        text-align: right;\n",
              "    }\n",
              "</style>\n",
              "<table border=\"1\" class=\"dataframe\">\n",
              "  <thead>\n",
              "    <tr style=\"text-align: right;\">\n",
              "      <th></th>\n",
              "      <th>book_id</th>\n",
              "      <th>goodreads_book_id</th>\n",
              "      <th>best_book_id</th>\n",
              "      <th>work_id</th>\n",
              "      <th>books_count</th>\n",
              "      <th>isbn</th>\n",
              "      <th>isbn13</th>\n",
              "      <th>authors</th>\n",
              "      <th>original_publication_year</th>\n",
              "      <th>original_title</th>\n",
              "      <th>title</th>\n",
              "      <th>language_code</th>\n",
              "      <th>average_rating</th>\n",
              "      <th>ratings_count</th>\n",
              "      <th>work_ratings_count</th>\n",
              "      <th>work_text_reviews_count</th>\n",
              "      <th>ratings_1</th>\n",
              "      <th>ratings_2</th>\n",
              "      <th>ratings_3</th>\n",
              "      <th>ratings_4</th>\n",
              "      <th>ratings_5</th>\n",
              "      <th>image_url</th>\n",
              "      <th>small_image_url</th>\n",
              "    </tr>\n",
              "  </thead>\n",
              "  <tbody>\n",
              "    <tr>\n",
              "      <th>0</th>\n",
              "      <td>1</td>\n",
              "      <td>2767052</td>\n",
              "      <td>2767052</td>\n",
              "      <td>2792775</td>\n",
              "      <td>272</td>\n",
              "      <td>439023483</td>\n",
              "      <td>9.780439e+12</td>\n",
              "      <td>Suzanne Collins</td>\n",
              "      <td>2008.0</td>\n",
              "      <td>The Hunger Games</td>\n",
              "      <td>The Hunger Games (The Hunger Games, #1)</td>\n",
              "      <td>eng</td>\n",
              "      <td>4.34</td>\n",
              "      <td>4780653</td>\n",
              "      <td>4942365</td>\n",
              "      <td>155254</td>\n",
              "      <td>66715</td>\n",
              "      <td>127936</td>\n",
              "      <td>560092</td>\n",
              "      <td>1481305</td>\n",
              "      <td>2706317</td>\n",
              "      <td>https://images.gr-assets.com/books/1447303603m...</td>\n",
              "      <td>https://images.gr-assets.com/books/1447303603s...</td>\n",
              "    </tr>\n",
              "    <tr>\n",
              "      <th>1</th>\n",
              "      <td>2</td>\n",
              "      <td>3</td>\n",
              "      <td>3</td>\n",
              "      <td>4640799</td>\n",
              "      <td>491</td>\n",
              "      <td>439554934</td>\n",
              "      <td>9.780440e+12</td>\n",
              "      <td>J.K. Rowling, Mary GrandPré</td>\n",
              "      <td>1997.0</td>\n",
              "      <td>Harry Potter and the Philosopher's Stone</td>\n",
              "      <td>Harry Potter and the Sorcerer's Stone (Harry P...</td>\n",
              "      <td>eng</td>\n",
              "      <td>4.44</td>\n",
              "      <td>4602479</td>\n",
              "      <td>4800065</td>\n",
              "      <td>75867</td>\n",
              "      <td>75504</td>\n",
              "      <td>101676</td>\n",
              "      <td>455024</td>\n",
              "      <td>1156318</td>\n",
              "      <td>3011543</td>\n",
              "      <td>https://images.gr-assets.com/books/1474154022m...</td>\n",
              "      <td>https://images.gr-assets.com/books/1474154022s...</td>\n",
              "    </tr>\n",
              "    <tr>\n",
              "      <th>2</th>\n",
              "      <td>3</td>\n",
              "      <td>41865</td>\n",
              "      <td>41865</td>\n",
              "      <td>3212258</td>\n",
              "      <td>226</td>\n",
              "      <td>316015849</td>\n",
              "      <td>9.780316e+12</td>\n",
              "      <td>Stephenie Meyer</td>\n",
              "      <td>2005.0</td>\n",
              "      <td>Twilight</td>\n",
              "      <td>Twilight (Twilight, #1)</td>\n",
              "      <td>en-US</td>\n",
              "      <td>3.57</td>\n",
              "      <td>3866839</td>\n",
              "      <td>3916824</td>\n",
              "      <td>95009</td>\n",
              "      <td>456191</td>\n",
              "      <td>436802</td>\n",
              "      <td>793319</td>\n",
              "      <td>875073</td>\n",
              "      <td>1355439</td>\n",
              "      <td>https://images.gr-assets.com/books/1361039443m...</td>\n",
              "      <td>https://images.gr-assets.com/books/1361039443s...</td>\n",
              "    </tr>\n",
              "    <tr>\n",
              "      <th>3</th>\n",
              "      <td>4</td>\n",
              "      <td>2657</td>\n",
              "      <td>2657</td>\n",
              "      <td>3275794</td>\n",
              "      <td>487</td>\n",
              "      <td>61120081</td>\n",
              "      <td>9.780061e+12</td>\n",
              "      <td>Harper Lee</td>\n",
              "      <td>1960.0</td>\n",
              "      <td>To Kill a Mockingbird</td>\n",
              "      <td>To Kill a Mockingbird</td>\n",
              "      <td>eng</td>\n",
              "      <td>4.25</td>\n",
              "      <td>3198671</td>\n",
              "      <td>3340896</td>\n",
              "      <td>72586</td>\n",
              "      <td>60427</td>\n",
              "      <td>117415</td>\n",
              "      <td>446835</td>\n",
              "      <td>1001952</td>\n",
              "      <td>1714267</td>\n",
              "      <td>https://images.gr-assets.com/books/1361975680m...</td>\n",
              "      <td>https://images.gr-assets.com/books/1361975680s...</td>\n",
              "    </tr>\n",
              "    <tr>\n",
              "      <th>4</th>\n",
              "      <td>5</td>\n",
              "      <td>4671</td>\n",
              "      <td>4671</td>\n",
              "      <td>245494</td>\n",
              "      <td>1356</td>\n",
              "      <td>743273567</td>\n",
              "      <td>9.780743e+12</td>\n",
              "      <td>F. Scott Fitzgerald</td>\n",
              "      <td>1925.0</td>\n",
              "      <td>The Great Gatsby</td>\n",
              "      <td>The Great Gatsby</td>\n",
              "      <td>eng</td>\n",
              "      <td>3.89</td>\n",
              "      <td>2683664</td>\n",
              "      <td>2773745</td>\n",
              "      <td>51992</td>\n",
              "      <td>86236</td>\n",
              "      <td>197621</td>\n",
              "      <td>606158</td>\n",
              "      <td>936012</td>\n",
              "      <td>947718</td>\n",
              "      <td>https://images.gr-assets.com/books/1490528560m...</td>\n",
              "      <td>https://images.gr-assets.com/books/1490528560s...</td>\n",
              "    </tr>\n",
              "  </tbody>\n",
              "</table>\n",
              "</div>"
            ],
            "text/plain": [
              "   book_id  ...                                    small_image_url\n",
              "0        1  ...  https://images.gr-assets.com/books/1447303603s...\n",
              "1        2  ...  https://images.gr-assets.com/books/1474154022s...\n",
              "2        3  ...  https://images.gr-assets.com/books/1361039443s...\n",
              "3        4  ...  https://images.gr-assets.com/books/1361975680s...\n",
              "4        5  ...  https://images.gr-assets.com/books/1490528560s...\n",
              "\n",
              "[5 rows x 23 columns]"
            ]
          },
          "metadata": {
            "tags": []
          },
          "execution_count": 7
        }
      ]
    },
    {
      "cell_type": "code",
      "metadata": {
        "colab": {
          "base_uri": "https://localhost:8080/"
        },
        "id": "xTYWOXs1jBA6",
        "outputId": "951a5403-44e3-408e-8b3e-72308777904c"
      },
      "source": [
        "print(ratings_df.shape)\n",
        "print(ratings_df.user_id.nunique())\n",
        "print(ratings_df.book_id.nunique())\n",
        "ratings_df.isna().sum()"
      ],
      "execution_count": 8,
      "outputs": [
        {
          "output_type": "stream",
          "text": [
            "(5976479, 3)\n",
            "53424\n",
            "10000\n"
          ],
          "name": "stdout"
        },
        {
          "output_type": "execute_result",
          "data": {
            "text/plain": [
              "user_id    0\n",
              "book_id    0\n",
              "rating     0\n",
              "dtype: int64"
            ]
          },
          "metadata": {
            "tags": []
          },
          "execution_count": 8
        }
      ]
    },
    {
      "cell_type": "code",
      "metadata": {
        "colab": {
          "base_uri": "https://localhost:8080/",
          "height": 284
        },
        "id": "I1eW1uWL4n6I",
        "outputId": "8c26dcf9-e75e-45c8-90f2-bc49038f28bd"
      },
      "source": [
        "ratings_df.describe()"
      ],
      "execution_count": 9,
      "outputs": [
        {
          "output_type": "execute_result",
          "data": {
            "text/html": [
              "<div>\n",
              "<style scoped>\n",
              "    .dataframe tbody tr th:only-of-type {\n",
              "        vertical-align: middle;\n",
              "    }\n",
              "\n",
              "    .dataframe tbody tr th {\n",
              "        vertical-align: top;\n",
              "    }\n",
              "\n",
              "    .dataframe thead th {\n",
              "        text-align: right;\n",
              "    }\n",
              "</style>\n",
              "<table border=\"1\" class=\"dataframe\">\n",
              "  <thead>\n",
              "    <tr style=\"text-align: right;\">\n",
              "      <th></th>\n",
              "      <th>user_id</th>\n",
              "      <th>book_id</th>\n",
              "      <th>rating</th>\n",
              "    </tr>\n",
              "  </thead>\n",
              "  <tbody>\n",
              "    <tr>\n",
              "      <th>count</th>\n",
              "      <td>5.976479e+06</td>\n",
              "      <td>5.976479e+06</td>\n",
              "      <td>5.976479e+06</td>\n",
              "    </tr>\n",
              "    <tr>\n",
              "      <th>mean</th>\n",
              "      <td>2.622446e+04</td>\n",
              "      <td>2.006477e+03</td>\n",
              "      <td>3.919866e+00</td>\n",
              "    </tr>\n",
              "    <tr>\n",
              "      <th>std</th>\n",
              "      <td>1.541323e+04</td>\n",
              "      <td>2.468499e+03</td>\n",
              "      <td>9.910868e-01</td>\n",
              "    </tr>\n",
              "    <tr>\n",
              "      <th>min</th>\n",
              "      <td>1.000000e+00</td>\n",
              "      <td>1.000000e+00</td>\n",
              "      <td>1.000000e+00</td>\n",
              "    </tr>\n",
              "    <tr>\n",
              "      <th>25%</th>\n",
              "      <td>1.281300e+04</td>\n",
              "      <td>1.980000e+02</td>\n",
              "      <td>3.000000e+00</td>\n",
              "    </tr>\n",
              "    <tr>\n",
              "      <th>50%</th>\n",
              "      <td>2.593800e+04</td>\n",
              "      <td>8.850000e+02</td>\n",
              "      <td>4.000000e+00</td>\n",
              "    </tr>\n",
              "    <tr>\n",
              "      <th>75%</th>\n",
              "      <td>3.950900e+04</td>\n",
              "      <td>2.973000e+03</td>\n",
              "      <td>5.000000e+00</td>\n",
              "    </tr>\n",
              "    <tr>\n",
              "      <th>max</th>\n",
              "      <td>5.342400e+04</td>\n",
              "      <td>1.000000e+04</td>\n",
              "      <td>5.000000e+00</td>\n",
              "    </tr>\n",
              "  </tbody>\n",
              "</table>\n",
              "</div>"
            ],
            "text/plain": [
              "            user_id       book_id        rating\n",
              "count  5.976479e+06  5.976479e+06  5.976479e+06\n",
              "mean   2.622446e+04  2.006477e+03  3.919866e+00\n",
              "std    1.541323e+04  2.468499e+03  9.910868e-01\n",
              "min    1.000000e+00  1.000000e+00  1.000000e+00\n",
              "25%    1.281300e+04  1.980000e+02  3.000000e+00\n",
              "50%    2.593800e+04  8.850000e+02  4.000000e+00\n",
              "75%    3.950900e+04  2.973000e+03  5.000000e+00\n",
              "max    5.342400e+04  1.000000e+04  5.000000e+00"
            ]
          },
          "metadata": {
            "tags": []
          },
          "execution_count": 9
        }
      ]
    },
    {
      "cell_type": "code",
      "metadata": {
        "colab": {
          "base_uri": "https://localhost:8080/",
          "height": 304
        },
        "id": "ksv7dFtv42gX",
        "outputId": "21e56219-4171-46cd-95c7-e07f43f4b628"
      },
      "source": [
        "books_df.describe()"
      ],
      "execution_count": 10,
      "outputs": [
        {
          "output_type": "execute_result",
          "data": {
            "text/html": [
              "<div>\n",
              "<style scoped>\n",
              "    .dataframe tbody tr th:only-of-type {\n",
              "        vertical-align: middle;\n",
              "    }\n",
              "\n",
              "    .dataframe tbody tr th {\n",
              "        vertical-align: top;\n",
              "    }\n",
              "\n",
              "    .dataframe thead th {\n",
              "        text-align: right;\n",
              "    }\n",
              "</style>\n",
              "<table border=\"1\" class=\"dataframe\">\n",
              "  <thead>\n",
              "    <tr style=\"text-align: right;\">\n",
              "      <th></th>\n",
              "      <th>book_id</th>\n",
              "      <th>goodreads_book_id</th>\n",
              "      <th>best_book_id</th>\n",
              "      <th>work_id</th>\n",
              "      <th>books_count</th>\n",
              "      <th>isbn13</th>\n",
              "      <th>original_publication_year</th>\n",
              "      <th>average_rating</th>\n",
              "      <th>ratings_count</th>\n",
              "      <th>work_ratings_count</th>\n",
              "      <th>work_text_reviews_count</th>\n",
              "      <th>ratings_1</th>\n",
              "      <th>ratings_2</th>\n",
              "      <th>ratings_3</th>\n",
              "      <th>ratings_4</th>\n",
              "      <th>ratings_5</th>\n",
              "    </tr>\n",
              "  </thead>\n",
              "  <tbody>\n",
              "    <tr>\n",
              "      <th>count</th>\n",
              "      <td>10000.00000</td>\n",
              "      <td>1.000000e+04</td>\n",
              "      <td>1.000000e+04</td>\n",
              "      <td>1.000000e+04</td>\n",
              "      <td>10000.000000</td>\n",
              "      <td>9.415000e+03</td>\n",
              "      <td>9979.000000</td>\n",
              "      <td>10000.000000</td>\n",
              "      <td>1.000000e+04</td>\n",
              "      <td>1.000000e+04</td>\n",
              "      <td>10000.000000</td>\n",
              "      <td>10000.000000</td>\n",
              "      <td>10000.000000</td>\n",
              "      <td>10000.000000</td>\n",
              "      <td>1.000000e+04</td>\n",
              "      <td>1.000000e+04</td>\n",
              "    </tr>\n",
              "    <tr>\n",
              "      <th>mean</th>\n",
              "      <td>5000.50000</td>\n",
              "      <td>5.264697e+06</td>\n",
              "      <td>5.471214e+06</td>\n",
              "      <td>8.646183e+06</td>\n",
              "      <td>75.712700</td>\n",
              "      <td>9.755044e+12</td>\n",
              "      <td>1981.987674</td>\n",
              "      <td>4.002191</td>\n",
              "      <td>5.400124e+04</td>\n",
              "      <td>5.968732e+04</td>\n",
              "      <td>2919.955300</td>\n",
              "      <td>1345.040600</td>\n",
              "      <td>3110.885000</td>\n",
              "      <td>11475.893800</td>\n",
              "      <td>1.996570e+04</td>\n",
              "      <td>2.378981e+04</td>\n",
              "    </tr>\n",
              "    <tr>\n",
              "      <th>std</th>\n",
              "      <td>2886.89568</td>\n",
              "      <td>7.575462e+06</td>\n",
              "      <td>7.827330e+06</td>\n",
              "      <td>1.175106e+07</td>\n",
              "      <td>170.470728</td>\n",
              "      <td>4.428619e+11</td>\n",
              "      <td>152.576665</td>\n",
              "      <td>0.254427</td>\n",
              "      <td>1.573700e+05</td>\n",
              "      <td>1.678038e+05</td>\n",
              "      <td>6124.378132</td>\n",
              "      <td>6635.626263</td>\n",
              "      <td>9717.123578</td>\n",
              "      <td>28546.449183</td>\n",
              "      <td>5.144736e+04</td>\n",
              "      <td>7.976889e+04</td>\n",
              "    </tr>\n",
              "    <tr>\n",
              "      <th>min</th>\n",
              "      <td>1.00000</td>\n",
              "      <td>1.000000e+00</td>\n",
              "      <td>1.000000e+00</td>\n",
              "      <td>8.700000e+01</td>\n",
              "      <td>1.000000</td>\n",
              "      <td>1.951703e+08</td>\n",
              "      <td>-1750.000000</td>\n",
              "      <td>2.470000</td>\n",
              "      <td>2.716000e+03</td>\n",
              "      <td>5.510000e+03</td>\n",
              "      <td>3.000000</td>\n",
              "      <td>11.000000</td>\n",
              "      <td>30.000000</td>\n",
              "      <td>323.000000</td>\n",
              "      <td>7.500000e+02</td>\n",
              "      <td>7.540000e+02</td>\n",
              "    </tr>\n",
              "    <tr>\n",
              "      <th>25%</th>\n",
              "      <td>2500.75000</td>\n",
              "      <td>4.627575e+04</td>\n",
              "      <td>4.791175e+04</td>\n",
              "      <td>1.008841e+06</td>\n",
              "      <td>23.000000</td>\n",
              "      <td>9.780316e+12</td>\n",
              "      <td>1990.000000</td>\n",
              "      <td>3.850000</td>\n",
              "      <td>1.356875e+04</td>\n",
              "      <td>1.543875e+04</td>\n",
              "      <td>694.000000</td>\n",
              "      <td>196.000000</td>\n",
              "      <td>656.000000</td>\n",
              "      <td>3112.000000</td>\n",
              "      <td>5.405750e+03</td>\n",
              "      <td>5.334000e+03</td>\n",
              "    </tr>\n",
              "    <tr>\n",
              "      <th>50%</th>\n",
              "      <td>5000.50000</td>\n",
              "      <td>3.949655e+05</td>\n",
              "      <td>4.251235e+05</td>\n",
              "      <td>2.719524e+06</td>\n",
              "      <td>40.000000</td>\n",
              "      <td>9.780452e+12</td>\n",
              "      <td>2004.000000</td>\n",
              "      <td>4.020000</td>\n",
              "      <td>2.115550e+04</td>\n",
              "      <td>2.383250e+04</td>\n",
              "      <td>1402.000000</td>\n",
              "      <td>391.000000</td>\n",
              "      <td>1163.000000</td>\n",
              "      <td>4894.000000</td>\n",
              "      <td>8.269500e+03</td>\n",
              "      <td>8.836000e+03</td>\n",
              "    </tr>\n",
              "    <tr>\n",
              "      <th>75%</th>\n",
              "      <td>7500.25000</td>\n",
              "      <td>9.382225e+06</td>\n",
              "      <td>9.636112e+06</td>\n",
              "      <td>1.451775e+07</td>\n",
              "      <td>67.000000</td>\n",
              "      <td>9.780831e+12</td>\n",
              "      <td>2011.000000</td>\n",
              "      <td>4.180000</td>\n",
              "      <td>4.105350e+04</td>\n",
              "      <td>4.591500e+04</td>\n",
              "      <td>2744.250000</td>\n",
              "      <td>885.000000</td>\n",
              "      <td>2353.250000</td>\n",
              "      <td>9287.000000</td>\n",
              "      <td>1.602350e+04</td>\n",
              "      <td>1.730450e+04</td>\n",
              "    </tr>\n",
              "    <tr>\n",
              "      <th>max</th>\n",
              "      <td>10000.00000</td>\n",
              "      <td>3.328864e+07</td>\n",
              "      <td>3.553423e+07</td>\n",
              "      <td>5.639960e+07</td>\n",
              "      <td>3455.000000</td>\n",
              "      <td>9.790008e+12</td>\n",
              "      <td>2017.000000</td>\n",
              "      <td>4.820000</td>\n",
              "      <td>4.780653e+06</td>\n",
              "      <td>4.942365e+06</td>\n",
              "      <td>155254.000000</td>\n",
              "      <td>456191.000000</td>\n",
              "      <td>436802.000000</td>\n",
              "      <td>793319.000000</td>\n",
              "      <td>1.481305e+06</td>\n",
              "      <td>3.011543e+06</td>\n",
              "    </tr>\n",
              "  </tbody>\n",
              "</table>\n",
              "</div>"
            ],
            "text/plain": [
              "           book_id  goodreads_book_id  ...     ratings_4     ratings_5\n",
              "count  10000.00000       1.000000e+04  ...  1.000000e+04  1.000000e+04\n",
              "mean    5000.50000       5.264697e+06  ...  1.996570e+04  2.378981e+04\n",
              "std     2886.89568       7.575462e+06  ...  5.144736e+04  7.976889e+04\n",
              "min        1.00000       1.000000e+00  ...  7.500000e+02  7.540000e+02\n",
              "25%     2500.75000       4.627575e+04  ...  5.405750e+03  5.334000e+03\n",
              "50%     5000.50000       3.949655e+05  ...  8.269500e+03  8.836000e+03\n",
              "75%     7500.25000       9.382225e+06  ...  1.602350e+04  1.730450e+04\n",
              "max    10000.00000       3.328864e+07  ...  1.481305e+06  3.011543e+06\n",
              "\n",
              "[8 rows x 16 columns]"
            ]
          },
          "metadata": {
            "tags": []
          },
          "execution_count": 10
        }
      ]
    },
    {
      "cell_type": "code",
      "metadata": {
        "id": "mENG8_gk5JDx",
        "colab": {
          "base_uri": "https://localhost:8080/"
        },
        "outputId": "a06a9cb2-6d3b-4981-8516-cab0229de7a8"
      },
      "source": [
        "print(ratings_df.shape)\n",
        "print(ratings_df.user_id.nunique())\n",
        "print(ratings_df.book_id.nunique())\n",
        "ratings_df.isna().sum()"
      ],
      "execution_count": 11,
      "outputs": [
        {
          "output_type": "stream",
          "text": [
            "(5976479, 3)\n",
            "53424\n",
            "10000\n"
          ],
          "name": "stdout"
        },
        {
          "output_type": "execute_result",
          "data": {
            "text/plain": [
              "user_id    0\n",
              "book_id    0\n",
              "rating     0\n",
              "dtype: int64"
            ]
          },
          "metadata": {
            "tags": []
          },
          "execution_count": 11
        }
      ]
    },
    {
      "cell_type": "code",
      "metadata": {
        "colab": {
          "base_uri": "https://localhost:8080/"
        },
        "id": "k5E324wljHN8",
        "outputId": "b2182e7e-4879-4337-a04c-93453d5b95ac"
      },
      "source": [
        "from sklearn.model_selection import train_test_split\n",
        "\n",
        "Xtrain, Xtest = train_test_split(ratings_df, test_size=0.2, random_state=42)\n",
        "print(f\"Shape of train data: {Xtrain.shape}\")\n",
        "print(f\"Shape of test data: {Xtest.shape}\")"
      ],
      "execution_count": 12,
      "outputs": [
        {
          "output_type": "stream",
          "text": [
            "Shape of train data: (4781183, 3)\n",
            "Shape of test data: (1195296, 3)\n"
          ],
          "name": "stdout"
        }
      ]
    },
    {
      "cell_type": "code",
      "metadata": {
        "id": "b3MiodHON9Da"
      },
      "source": [
        "#Get the number of unique entities in books and users columns\n",
        "nbook_id = ratings_df.book_id.nunique()\n",
        "nuser_id = ratings_df.user_id.nunique()"
      ],
      "execution_count": 13,
      "outputs": []
    },
    {
      "cell_type": "code",
      "metadata": {
        "id": "xKf_JvFbRLGa"
      },
      "source": [
        "from keras.layers import Input, Embedding, Flatten, Dot, Dense, Concatenate\n",
        "from keras.models import Model"
      ],
      "execution_count": 14,
      "outputs": []
    },
    {
      "cell_type": "markdown",
      "metadata": {
        "id": "lGdLlJi3p5BV"
      },
      "source": [
        "###Creating a Neural Network"
      ]
    },
    {
      "cell_type": "code",
      "metadata": {
        "id": "5HWVzg_hjeGA"
      },
      "source": [
        "#Book input network\n",
        "input_books = tf.layers.Input(shape=[1])\n",
        "embed_books = tf.layers.Embedding(nbook_id+1, 5, name=\"Book-Embedding\")(input_books)\n",
        "books_vec = tf.layers.Flatten(name=\"Flatten-Books\")(embed_books)\n",
        "\n",
        "#user input network\n",
        "input_users = tf.layers.Input(shape=[1])\n",
        "embed_users = tf.layers.Embedding(nuser_id+1, 5, name=\"User-Embedding\")(input_users)\n",
        "users_vec = tf.layers.Flatten(name=\"Flatten-Users\")(embed_users)\n",
        "\n",
        "# concatenate features\n",
        "conc_layer = tf.layers.Concatenate()([books_vec, users_vec])\n",
        "\n",
        "# add fully-connected-layers\n",
        "fc1 = Dense(128, activation='relu')(conc_layer)\n",
        "out = Dense(1)(fc1)\n",
        "\n",
        "# Create model with adam and mean squared error for loss\n",
        "model = tf.Model([input_books, input_users], out)\n",
        "model.compile('adam', 'mean_squared_error')"
      ],
      "execution_count": 15,
      "outputs": []
    },
    {
      "cell_type": "code",
      "metadata": {
        "colab": {
          "base_uri": "https://localhost:8080/"
        },
        "id": "Kua51XS_jhmx",
        "outputId": "52b00da4-d3d1-4679-adfe-2b1441c990db"
      },
      "source": [
        "model.summary()"
      ],
      "execution_count": 16,
      "outputs": [
        {
          "output_type": "stream",
          "text": [
            "Model: \"functional_1\"\n",
            "__________________________________________________________________________________________________\n",
            "Layer (type)                    Output Shape         Param #     Connected to                     \n",
            "==================================================================================================\n",
            "input_1 (InputLayer)            [(None, 1)]          0                                            \n",
            "__________________________________________________________________________________________________\n",
            "input_2 (InputLayer)            [(None, 1)]          0                                            \n",
            "__________________________________________________________________________________________________\n",
            "Book-Embedding (Embedding)      (None, 1, 5)         50005       input_1[0][0]                    \n",
            "__________________________________________________________________________________________________\n",
            "User-Embedding (Embedding)      (None, 1, 5)         267125      input_2[0][0]                    \n",
            "__________________________________________________________________________________________________\n",
            "Flatten-Books (Flatten)         (None, 5)            0           Book-Embedding[0][0]             \n",
            "__________________________________________________________________________________________________\n",
            "Flatten-Users (Flatten)         (None, 5)            0           User-Embedding[0][0]             \n",
            "__________________________________________________________________________________________________\n",
            "concatenate (Concatenate)       (None, 10)           0           Flatten-Books[0][0]              \n",
            "                                                                 Flatten-Users[0][0]              \n",
            "__________________________________________________________________________________________________\n",
            "dense (Dense)                   (None, 128)          1408        concatenate[0][0]                \n",
            "__________________________________________________________________________________________________\n",
            "dense_1 (Dense)                 (None, 1)            129         dense[0][0]                      \n",
            "==================================================================================================\n",
            "Total params: 318,667\n",
            "Trainable params: 318,667\n",
            "Non-trainable params: 0\n",
            "__________________________________________________________________________________________________\n"
          ],
          "name": "stdout"
        }
      ]
    },
    {
      "cell_type": "code",
      "metadata": {
        "colab": {
          "base_uri": "https://localhost:8080/",
          "height": 632
        },
        "id": "1vXwXeIbjkmN",
        "outputId": "f67e3fd7-0dfa-43c6-81c5-34d99b6f8870"
      },
      "source": [
        "from keras.models import load_model\n",
        "\n",
        "# if os.path.exists('regression_model.h5'):\n",
        "#     model = load_model('regression_model.h5')\n",
        "# else:\n",
        "history = model.fit([Xtrain.book_id, Xtrain.user_id], Xtrain.rating, batch_size=64, epochs=10, verbose=1)\n",
        "# model.save('regression_model.h5')\n",
        "plt.plot(history.history['loss'])\n",
        "plt.xlabel(\"Epochs\")\n",
        "plt.ylabel(\"Training Error\")\n",
        "# hist = model.fit([Xtrain.book_id, Xtrain.user_id], Xtrain.rating, batch_size=64, epochs=5, verbose=1)\n",
        "\n",
        "# callbacks = [EarlyStopping('val_loss', patience=2), \n",
        "#              ModelCheckpoint('bestweights.h5', save_best_only=True)]"
      ],
      "execution_count": 17,
      "outputs": [
        {
          "output_type": "stream",
          "text": [
            "Epoch 1/10\n",
            "74706/74706 [==============================] - 320s 4ms/step - loss: 0.7821\n",
            "Epoch 2/10\n",
            "74706/74706 [==============================] - 324s 4ms/step - loss: 0.7234\n",
            "Epoch 3/10\n",
            "74706/74706 [==============================] - 320s 4ms/step - loss: 0.6970\n",
            "Epoch 4/10\n",
            "74706/74706 [==============================] - 331s 4ms/step - loss: 0.6746\n",
            "Epoch 5/10\n",
            "74706/74706 [==============================] - 319s 4ms/step - loss: 0.6611\n",
            "Epoch 6/10\n",
            "74706/74706 [==============================] - 322s 4ms/step - loss: 0.6527\n",
            "Epoch 7/10\n",
            "74706/74706 [==============================] - 330s 4ms/step - loss: 0.6468\n",
            "Epoch 8/10\n",
            "74706/74706 [==============================] - 350s 5ms/step - loss: 0.6423\n",
            "Epoch 9/10\n",
            "74706/74706 [==============================] - 331s 4ms/step - loss: 0.6388\n",
            "Epoch 10/10\n",
            "74706/74706 [==============================] - 330s 4ms/step - loss: 0.6358\n"
          ],
          "name": "stdout"
        },
        {
          "output_type": "execute_result",
          "data": {
            "text/plain": [
              "Text(0, 0.5, 'Training Error')"
            ]
          },
          "metadata": {
            "tags": []
          },
          "execution_count": 17
        },
        {
          "output_type": "display_data",
          "data": {
            "image/png": "[encoded data removed]",
            "text/plain": [
              "<Figure size 432x288 with 1 Axes>"
            ]
          },
          "metadata": {
            "tags": [],
            "needs_background": "light"
          }
        }
      ]
    },
    {
      "cell_type": "code",
      "metadata": {
        "id": "MrBDbiZtRmWL",
        "colab": {
          "base_uri": "https://localhost:8080/"
        },
        "outputId": "4aded255-f044-4a89-fb92-b8655259ea97"
      },
      "source": [
        "model.evaluate([Xtest.book_id, Xtest.user_id], Xtest.rating)"
      ],
      "execution_count": 18,
      "outputs": [
        {
          "output_type": "stream",
          "text": [
            "37353/37353 [==============================] - 50s 1ms/step - loss: 0.6835\n"
          ],
          "name": "stdout"
        },
        {
          "output_type": "execute_result",
          "data": {
            "text/plain": [
              "0.6834740042686462"
            ]
          },
          "metadata": {
            "tags": []
          },
          "execution_count": 18
        }
      ]
    },
    {
      "cell_type": "markdown",
      "metadata": {
        "id": "NjGltlNQKk1Q"
      },
      "source": [
        "## Tune the Model"
      ]
    },
    {
      "cell_type": "markdown",
      "metadata": {
        "id": "XZLTlrIj-EXO"
      },
      "source": [
        "### Used RMSprop to optimze the model with a learning rate of 0.01\n",
        "####MAE for loss"
      ]
    },
    {
      "cell_type": "code",
      "metadata": {
        "id": "82PZHIPrd_k1"
      },
      "source": [
        "#Book input network\n",
        "input_books = tf.layers.Input(shape=[1])\n",
        "embed_books = tf.layers.Embedding(nbook_id+1, 5, name=\"Book-Embedding\")(input_books)\n",
        "books_vec = tf.layers.Flatten(name=\"Flatten-Books\")(embed_books)\n",
        "\n",
        "#user input network\n",
        "input_users = tf.layers.Input(shape=[1])\n",
        "embed_users = tf.layers.Embedding(nuser_id+1, 5, name=\"User-Embedding\")(input_users)\n",
        "users_vec = tf.layers.Flatten(name=\"Flatten-Users\")(embed_users)\n",
        "\n",
        "# concatenate features\n",
        "conc_layer = tf.layers.Concatenate()([books_vec, users_vec])\n",
        "\n",
        "# add fully-connected-layers\n",
        "fc1 = Dense(128, activation='relu')(conc_layer)\n",
        "fc2 = Dense(32, activation='relu')(fc1)\n",
        "out = Dense(1)(fc2)\n",
        "\n",
        "# Create model \n",
        "model2 = tf.Model([input_books, input_users], out)\n",
        "# Optimizer\n",
        "opt = tf.optimizers.RMSprop(learning_rate=0.01)\n",
        "# compile model\n",
        "model2.compile(optimizer=opt, loss='mean_absolute_error')"
      ],
      "execution_count": 19,
      "outputs": []
    },
    {
      "cell_type": "markdown",
      "metadata": {
        "id": "PcrhgWj6_kT-"
      },
      "source": [
        "#####increased number of epochs to train the model more and created a batch_size of 128 in order to train faster cause it was taking long with 64"
      ]
    },
    {
      "cell_type": "code",
      "metadata": {
        "id": "Gp7a7hjCd_Lb",
        "colab": {
          "base_uri": "https://localhost:8080/",
          "height": 968
        },
        "outputId": "1aac0924-4ee0-4cae-ba62-77065b0dd8f5"
      },
      "source": [
        "history2 = model2.fit([Xtrain.book_id, Xtrain.user_id], Xtrain.rating, batch_size=128, epochs=20, verbose=1)\n",
        "plt.plot(history2.history['loss'])\n",
        "plt.xlabel(\"Epochs\")\n",
        "plt.ylabel(\"Training Error\")"
      ],
      "execution_count": 20,
      "outputs": [
        {
          "output_type": "stream",
          "text": [
            "Epoch 1/20\n",
            "37353/37353 [==============================] - 144s 4ms/step - loss: 0.6714\n",
            "Epoch 2/20\n",
            "37353/37353 [==============================] - 141s 4ms/step - loss: 0.6551\n",
            "Epoch 3/20\n",
            "37353/37353 [==============================] - 143s 4ms/step - loss: 0.6604\n",
            "Epoch 4/20\n",
            "37353/37353 [==============================] - 140s 4ms/step - loss: 0.6585\n",
            "Epoch 5/20\n",
            "37353/37353 [==============================] - 134s 4ms/step - loss: 0.6569\n",
            "Epoch 6/20\n",
            "37353/37353 [==============================] - 133s 4ms/step - loss: 0.6524\n",
            "Epoch 7/20\n",
            "37353/37353 [==============================] - 131s 4ms/step - loss: 0.6507\n",
            "Epoch 8/20\n",
            "37353/37353 [==============================] - 131s 4ms/step - loss: 0.6517\n",
            "Epoch 9/20\n",
            "37353/37353 [==============================] - 128s 3ms/step - loss: 0.6491\n",
            "Epoch 10/20\n",
            "37353/37353 [==============================] - 128s 3ms/step - loss: 0.6472\n",
            "Epoch 11/20\n",
            "37353/37353 [==============================] - 130s 3ms/step - loss: 0.6435\n",
            "Epoch 12/20\n",
            "37353/37353 [==============================] - 135s 4ms/step - loss: 0.6423\n",
            "Epoch 13/20\n",
            "37353/37353 [==============================] - 138s 4ms/step - loss: 0.6418\n",
            "Epoch 14/20\n",
            "37353/37353 [==============================] - 139s 4ms/step - loss: 0.6417\n",
            "Epoch 15/20\n",
            "37353/37353 [==============================] - 142s 4ms/step - loss: 0.6411\n",
            "Epoch 16/20\n",
            "37353/37353 [==============================] - 140s 4ms/step - loss: 0.6401\n",
            "Epoch 17/20\n",
            "37353/37353 [==============================] - 140s 4ms/step - loss: 0.6402\n",
            "Epoch 18/20\n",
            "37353/37353 [==============================] - 132s 4ms/step - loss: 0.6402\n",
            "Epoch 19/20\n",
            "37353/37353 [==============================] - 132s 4ms/step - loss: 0.6407\n",
            "Epoch 20/20\n",
            "37353/37353 [==============================] - 128s 3ms/step - loss: 0.6397\n"
          ],
          "name": "stdout"
        },
        {
          "output_type": "execute_result",
          "data": {
            "text/plain": [
              "Text(0, 0.5, 'Training Error')"
            ]
          },
          "metadata": {
            "tags": []
          },
          "execution_count": 20
        },
        {
          "output_type": "display_data",
          "data": {
            "image/png": "[encoded data removed]",
            "text/plain": [
              "<Figure size 432x288 with 1 Axes>"
            ]
          },
          "metadata": {
            "tags": [],
            "needs_background": "light"
          }
        }
      ]
    },
    {
      "cell_type": "markdown",
      "metadata": {
        "id": "Dk1swbNj-lSA"
      },
      "source": [
        "####Evaluating the model"
      ]
    },
    {
      "cell_type": "code",
      "metadata": {
        "id": "kb04jDwVOtcO",
        "colab": {
          "base_uri": "https://localhost:8080/"
        },
        "outputId": "497e7978-8e14-47e3-cc2c-7e514f6bcefc"
      },
      "source": [
        "model2.evaluate([Xtest.book_id, Xtest.user_id], Xtest.rating)"
      ],
      "execution_count": 21,
      "outputs": [
        {
          "output_type": "stream",
          "text": [
            "37353/37353 [==============================] - 49s 1ms/step - loss: 0.6460\n"
          ],
          "name": "stdout"
        },
        {
          "output_type": "execute_result",
          "data": {
            "text/plain": [
              "0.6459681987762451"
            ]
          },
          "metadata": {
            "tags": []
          },
          "execution_count": 21
        }
      ]
    },
    {
      "cell_type": "markdown",
      "metadata": {
        "id": "CwW30jB0-rUd"
      },
      "source": [
        "### Used Adam to optimze the model with a learning rate of 0.001\n",
        "####MAE for loss"
      ]
    },
    {
      "cell_type": "code",
      "metadata": {
        "id": "z9eUrD7kTfzO"
      },
      "source": [
        "#Book input network\n",
        "input_books = tf.layers.Input(shape=[1])\n",
        "embed_books = tf.layers.Embedding(nbook_id+1, 5, name=\"Book-Embedding\")(input_books)\n",
        "books_vec = tf.layers.Flatten(name=\"Flatten-Books\")(embed_books)\n",
        "\n",
        "#user input network\n",
        "input_users = tf.layers.Input(shape=[1])\n",
        "embed_users = tf.layers.Embedding(nuser_id+1, 5, name=\"User-Embedding\")(input_users)\n",
        "users_vec = tf.layers.Flatten(name=\"Flatten-Users\")(embed_users)\n",
        "\n",
        "# concatenate features\n",
        "conc_layer = tf.layers.Concatenate()([books_vec, users_vec])\n",
        "\n",
        "# add fully-connected-layers\n",
        "fc1 = Dense(128, activation='relu')(conc_layer)\n",
        "fc2 = Dense(32, activation='relu')(fc1)\n",
        "out = Dense(1)(fc2)\n",
        "\n",
        "# Create model \n",
        "model3 = tf.Model([input_books, input_users], out)\n",
        "# Optimizer\n",
        "opt = tf.optimizers.Adam(learning_rate=0.001)\n",
        "# compile model\n",
        "model3.compile(optimizer=opt,loss='mean_absolute_error')"
      ],
      "execution_count": 22,
      "outputs": []
    },
    {
      "cell_type": "code",
      "metadata": {
        "id": "SHT_l1-ZT90D",
        "colab": {
          "base_uri": "https://localhost:8080/",
          "height": 968
        },
        "outputId": "b2604c50-c7be-487d-e167-e1a3788fba55"
      },
      "source": [
        "history3 = model3.fit([Xtrain.book_id, Xtrain.user_id], Xtrain.rating, batch_size=128, epochs=20, verbose=1)\n",
        "plt.plot(history3.history['loss'])\n",
        "plt.xlabel(\"Epochs\")\n",
        "plt.ylabel(\"Training Error\")"
      ],
      "execution_count": 23,
      "outputs": [
        {
          "output_type": "stream",
          "text": [
            "Epoch 1/20\n",
            "37353/37353 [==============================] - 173s 5ms/step - loss: 0.6640\n",
            "Epoch 2/20\n",
            "37353/37353 [==============================] - 179s 5ms/step - loss: 0.6276\n",
            "Epoch 3/20\n",
            "37353/37353 [==============================] - 172s 5ms/step - loss: 0.6185\n",
            "Epoch 4/20\n",
            "37353/37353 [==============================] - 168s 5ms/step - loss: 0.6114\n",
            "Epoch 5/20\n",
            "37353/37353 [==============================] - 167s 4ms/step - loss: 0.6060\n",
            "Epoch 6/20\n",
            "37353/37353 [==============================] - 166s 4ms/step - loss: 0.6023\n",
            "Epoch 7/20\n",
            "37353/37353 [==============================] - 167s 4ms/step - loss: 0.6018\n",
            "Epoch 8/20\n",
            "37353/37353 [==============================] - 166s 4ms/step - loss: 0.6026\n",
            "Epoch 9/20\n",
            "37353/37353 [==============================] - 167s 4ms/step - loss: 0.6045\n",
            "Epoch 10/20\n",
            "37353/37353 [==============================] - 170s 5ms/step - loss: 0.6058\n",
            "Epoch 11/20\n",
            "37353/37353 [==============================] - 172s 5ms/step - loss: 0.6038\n",
            "Epoch 12/20\n",
            "37353/37353 [==============================] - 180s 5ms/step - loss: 0.6007\n",
            "Epoch 13/20\n",
            "37353/37353 [==============================] - 180s 5ms/step - loss: 0.5977\n",
            "Epoch 14/20\n",
            "37353/37353 [==============================] - 187s 5ms/step - loss: 0.5955\n",
            "Epoch 15/20\n",
            "37353/37353 [==============================] - 189s 5ms/step - loss: 0.5943\n",
            "Epoch 16/20\n",
            "37353/37353 [==============================] - 189s 5ms/step - loss: 0.5935\n",
            "Epoch 17/20\n",
            "37353/37353 [==============================] - 189s 5ms/step - loss: 0.5936\n",
            "Epoch 18/20\n",
            "37353/37353 [==============================] - 190s 5ms/step - loss: 0.5932\n",
            "Epoch 19/20\n",
            "37353/37353 [==============================] - 190s 5ms/step - loss: 0.5917\n",
            "Epoch 20/20\n",
            "37353/37353 [==============================] - 190s 5ms/step - loss: 0.5907\n"
          ],
          "name": "stdout"
        },
        {
          "output_type": "execute_result",
          "data": {
            "text/plain": [
              "Text(0, 0.5, 'Training Error')"
            ]
          },
          "metadata": {
            "tags": []
          },
          "execution_count": 23
        },
        {
          "output_type": "display_data",
          "data": {
            "image/png": "[encoded data removed]",
            "text/plain": [
              "<Figure size 432x288 with 1 Axes>"
            ]
          },
          "metadata": {
            "tags": [],
            "needs_background": "light"
          }
        }
      ]
    },
    {
      "cell_type": "code",
      "metadata": {
        "id": "PycEkr9Uqshy",
        "colab": {
          "base_uri": "https://localhost:8080/"
        },
        "outputId": "2b25a048-e3f2-451d-fa56-14e532713b95"
      },
      "source": [
        "model3.evaluate([Xtest.book_id, Xtest.user_id], Xtest.rating)"
      ],
      "execution_count": 24,
      "outputs": [
        {
          "output_type": "stream",
          "text": [
            "37353/37353 [==============================] - 53s 1ms/step - loss: 0.6217\n"
          ],
          "name": "stdout"
        },
        {
          "output_type": "execute_result",
          "data": {
            "text/plain": [
              "0.6217340230941772"
            ]
          },
          "metadata": {
            "tags": []
          },
          "execution_count": 24
        }
      ]
    },
    {
      "cell_type": "markdown",
      "metadata": {
        "id": "5NeBzU0J_QNO"
      },
      "source": [
        "The results looks better than the previous models so I can either go with the previous or last model"
      ]
    },
    {
      "cell_type": "markdown",
      "metadata": {
        "id": "4k1ll6hm_znV"
      },
      "source": [
        "####Let's keep the last model"
      ]
    },
    {
      "cell_type": "code",
      "metadata": {
        "id": "uzthNhV0_2Y6"
      },
      "source": [
        "model3.save('regression_model.h5')"
      ],
      "execution_count": 60,
      "outputs": []
    },
    {
      "cell_type": "code",
      "metadata": {
        "id": "1JFauyJ_AaMd"
      },
      "source": [
        "# load all reviews\n",
        "from keras.models import load_model\n",
        "model = load_model( 'regression_model.h5' )"
      ],
      "execution_count": 26,
      "outputs": []
    },
    {
      "cell_type": "markdown",
      "metadata": {
        "id": "wGBa15k0FE9K"
      },
      "source": [
        "###Making Predictions"
      ]
    },
    {
      "cell_type": "code",
      "metadata": {
        "id": "2TC3E-qXXSjf"
      },
      "source": [
        "b_id =list(ratings_df.book_id.unique())\n",
        "b_id.remove(10000)"
      ],
      "execution_count": 48,
      "outputs": []
    },
    {
      "cell_type": "code",
      "metadata": {
        "colab": {
          "base_uri": "https://localhost:8080/"
        },
        "id": "yw7w0k0WEoOB",
        "outputId": "e2df92f1-6937-44c9-b9cb-f4e72cd40f56"
      },
      "source": [
        "len(b_id)"
      ],
      "execution_count": 51,
      "outputs": [
        {
          "output_type": "execute_result",
          "data": {
            "text/plain": [
              "9999"
            ]
          },
          "metadata": {
            "tags": []
          },
          "execution_count": 51
        }
      ]
    },
    {
      "cell_type": "code",
      "metadata": {
        "id": "YAy-XTDlXdrs",
        "colab": {
          "base_uri": "https://localhost:8080/"
        },
        "outputId": "ef9e93eb-2585-436d-85fd-67ce42e0b0c3"
      },
      "source": [
        "book_arr = np.array(b_id)\n",
        "user = np.array([53424 for i in range(len(b_id))])\n",
        "pred = model.predict([book_arr, user])\n",
        "pred"
      ],
      "execution_count": 52,
      "outputs": [
        {
          "output_type": "execute_result",
          "data": {
            "text/plain": [
              "array([[4.914786 ],\n",
              "       [4.0217495],\n",
              "       [4.027112 ],\n",
              "       ...,\n",
              "       [4.5302076],\n",
              "       [4.9272437],\n",
              "       [4.2729416]], dtype=float32)"
            ]
          },
          "metadata": {
            "tags": []
          },
          "execution_count": 52
        }
      ]
    },
    {
      "cell_type": "code",
      "metadata": {
        "id": "698pQDEnbCeE",
        "colab": {
          "base_uri": "https://localhost:8080/"
        },
        "outputId": "4b451b05-f870-4106-8b02-49f7312b5d5c"
      },
      "source": [
        "pred = pred.reshape(-1)\n",
        "pred_ids = (-pred).argsort()[0:5]\n",
        "pred_ids"
      ],
      "execution_count": 54,
      "outputs": [
        {
          "output_type": "execute_result",
          "data": {
            "text/plain": [
              "array([1457, 8514, 2173, 2172, 4696])"
            ]
          },
          "metadata": {
            "tags": []
          },
          "execution_count": 54
        }
      ]
    },
    {
      "cell_type": "code",
      "metadata": {
        "id": "zjA2w1OkbGTO",
        "colab": {
          "base_uri": "https://localhost:8080/"
        },
        "outputId": "daf9cbd6-a2dd-4250-95a9-b3e2f61ebdd8"
      },
      "source": [
        "ratings_df.user_id.nunique()"
      ],
      "execution_count": 55,
      "outputs": [
        {
          "output_type": "execute_result",
          "data": {
            "text/plain": [
              "53424"
            ]
          },
          "metadata": {
            "tags": []
          },
          "execution_count": 55
        }
      ]
    },
    {
      "cell_type": "code",
      "metadata": {
        "id": "6p72JeGubKtT",
        "colab": {
          "base_uri": "https://localhost:8080/",
          "height": 350
        },
        "outputId": "7bfc7798-1a73-45ac-fe63-2bad9e381262"
      },
      "source": [
        "books_df.iloc[pred_ids]"
      ],
      "execution_count": 56,
      "outputs": [
        {
          "output_type": "execute_result",
          "data": {
            "text/html": [
              "<div>\n",
              "<style scoped>\n",
              "    .dataframe tbody tr th:only-of-type {\n",
              "        vertical-align: middle;\n",
              "    }\n",
              "\n",
              "    .dataframe tbody tr th {\n",
              "        vertical-align: top;\n",
              "    }\n",
              "\n",
              "    .dataframe thead th {\n",
              "        text-align: right;\n",
              "    }\n",
              "</style>\n",
              "<table border=\"1\" class=\"dataframe\">\n",
              "  <thead>\n",
              "    <tr style=\"text-align: right;\">\n",
              "      <th></th>\n",
              "      <th>book_id</th>\n",
              "      <th>goodreads_book_id</th>\n",
              "      <th>best_book_id</th>\n",
              "      <th>work_id</th>\n",
              "      <th>books_count</th>\n",
              "      <th>isbn</th>\n",
              "      <th>isbn13</th>\n",
              "      <th>authors</th>\n",
              "      <th>original_publication_year</th>\n",
              "      <th>original_title</th>\n",
              "      <th>title</th>\n",
              "      <th>language_code</th>\n",
              "      <th>average_rating</th>\n",
              "      <th>ratings_count</th>\n",
              "      <th>work_ratings_count</th>\n",
              "      <th>work_text_reviews_count</th>\n",
              "      <th>ratings_1</th>\n",
              "      <th>ratings_2</th>\n",
              "      <th>ratings_3</th>\n",
              "      <th>ratings_4</th>\n",
              "      <th>ratings_5</th>\n",
              "      <th>image_url</th>\n",
              "      <th>small_image_url</th>\n",
              "    </tr>\n",
              "  </thead>\n",
              "  <tbody>\n",
              "    <tr>\n",
              "      <th>1457</th>\n",
              "      <td>1458</td>\n",
              "      <td>3388</td>\n",
              "      <td>3388</td>\n",
              "      <td>2771048</td>\n",
              "      <td>105</td>\n",
              "      <td>067976397X</td>\n",
              "      <td>9.780680e+12</td>\n",
              "      <td>Louis de Bernières</td>\n",
              "      <td>1994.0</td>\n",
              "      <td>Captain Corelli's Mandolin</td>\n",
              "      <td>Corelli's Mandolin</td>\n",
              "      <td>eng</td>\n",
              "      <td>3.95</td>\n",
              "      <td>57583</td>\n",
              "      <td>65596</td>\n",
              "      <td>2279</td>\n",
              "      <td>1734</td>\n",
              "      <td>4029</td>\n",
              "      <td>13185</td>\n",
              "      <td>23679</td>\n",
              "      <td>22969</td>\n",
              "      <td>https://images.gr-assets.com/books/1479680795m...</td>\n",
              "      <td>https://images.gr-assets.com/books/1479680795s...</td>\n",
              "    </tr>\n",
              "    <tr>\n",
              "      <th>8514</th>\n",
              "      <td>8515</td>\n",
              "      <td>7521400</td>\n",
              "      <td>7521400</td>\n",
              "      <td>9742847</td>\n",
              "      <td>11</td>\n",
              "      <td>307461181</td>\n",
              "      <td>9.780307e+12</td>\n",
              "      <td>Carol Burnett</td>\n",
              "      <td>2010.0</td>\n",
              "      <td>NaN</td>\n",
              "      <td>This Time Together: Laughter and Reflection</td>\n",
              "      <td>eng</td>\n",
              "      <td>4.05</td>\n",
              "      <td>10609</td>\n",
              "      <td>12334</td>\n",
              "      <td>1406</td>\n",
              "      <td>171</td>\n",
              "      <td>471</td>\n",
              "      <td>2474</td>\n",
              "      <td>4728</td>\n",
              "      <td>4490</td>\n",
              "      <td>https://images.gr-assets.com/books/1320390701m...</td>\n",
              "      <td>https://images.gr-assets.com/books/1320390701s...</td>\n",
              "    </tr>\n",
              "    <tr>\n",
              "      <th>2173</th>\n",
              "      <td>2174</td>\n",
              "      <td>2279</td>\n",
              "      <td>2279</td>\n",
              "      <td>1732395</td>\n",
              "      <td>23</td>\n",
              "      <td>671869205</td>\n",
              "      <td>9.780672e+12</td>\n",
              "      <td>David McCullough</td>\n",
              "      <td>1992.0</td>\n",
              "      <td>Truman</td>\n",
              "      <td>Truman</td>\n",
              "      <td>en-US</td>\n",
              "      <td>4.15</td>\n",
              "      <td>53088</td>\n",
              "      <td>54704</td>\n",
              "      <td>1767</td>\n",
              "      <td>1869</td>\n",
              "      <td>2168</td>\n",
              "      <td>7817</td>\n",
              "      <td>17033</td>\n",
              "      <td>25817</td>\n",
              "      <td>https://images.gr-assets.com/books/1364681969m...</td>\n",
              "      <td>https://images.gr-assets.com/books/1364681969s...</td>\n",
              "    </tr>\n",
              "    <tr>\n",
              "      <th>2172</th>\n",
              "      <td>2173</td>\n",
              "      <td>16141924</td>\n",
              "      <td>16141924</td>\n",
              "      <td>21973739</td>\n",
              "      <td>16</td>\n",
              "      <td>385349068</td>\n",
              "      <td>9.780385e+12</td>\n",
              "      <td>Jim Gaffigan</td>\n",
              "      <td>2013.0</td>\n",
              "      <td>Dad Is Fat</td>\n",
              "      <td>Dad Is Fat</td>\n",
              "      <td>NaN</td>\n",
              "      <td>3.76</td>\n",
              "      <td>40489</td>\n",
              "      <td>46767</td>\n",
              "      <td>6014</td>\n",
              "      <td>827</td>\n",
              "      <td>3199</td>\n",
              "      <td>13535</td>\n",
              "      <td>17973</td>\n",
              "      <td>11233</td>\n",
              "      <td>https://images.gr-assets.com/books/1354052742m...</td>\n",
              "      <td>https://images.gr-assets.com/books/1354052742s...</td>\n",
              "    </tr>\n",
              "    <tr>\n",
              "      <th>4696</th>\n",
              "      <td>4697</td>\n",
              "      <td>12758317</td>\n",
              "      <td>12758317</td>\n",
              "      <td>17893276</td>\n",
              "      <td>61</td>\n",
              "      <td>1451664125</td>\n",
              "      <td>9.781452e+12</td>\n",
              "      <td>John Irving</td>\n",
              "      <td>2012.0</td>\n",
              "      <td>In One Person</td>\n",
              "      <td>In One Person</td>\n",
              "      <td>NaN</td>\n",
              "      <td>3.65</td>\n",
              "      <td>18561</td>\n",
              "      <td>21588</td>\n",
              "      <td>3137</td>\n",
              "      <td>724</td>\n",
              "      <td>1843</td>\n",
              "      <td>6109</td>\n",
              "      <td>8396</td>\n",
              "      <td>4516</td>\n",
              "      <td>https://images.gr-assets.com/books/1379313446m...</td>\n",
              "      <td>https://images.gr-assets.com/books/1379313446s...</td>\n",
              "    </tr>\n",
              "  </tbody>\n",
              "</table>\n",
              "</div>"
            ],
            "text/plain": [
              "      book_id  ...                                    small_image_url\n",
              "1457     1458  ...  https://images.gr-assets.com/books/1479680795s...\n",
              "8514     8515  ...  https://images.gr-assets.com/books/1320390701s...\n",
              "2173     2174  ...  https://images.gr-assets.com/books/1364681969s...\n",
              "2172     2173  ...  https://images.gr-assets.com/books/1354052742s...\n",
              "4696     4697  ...  https://images.gr-assets.com/books/1379313446s...\n",
              "\n",
              "[5 rows x 23 columns]"
            ]
          },
          "metadata": {
            "tags": []
          },
          "execution_count": 56
        }
      ]
    },
    {
      "cell_type": "code",
      "metadata": {
        "id": "wQZ0mgRxb-w5"
      },
      "source": [
        "web_book_data = books_df[[\"book_id\", \"title\", \"image_url\", \"authors\"]]\n",
        "web_book_data = web_book_data.sort_values('book_id')"
      ],
      "execution_count": 57,
      "outputs": []
    },
    {
      "cell_type": "code",
      "metadata": {
        "id": "eFNusz0DcNWG",
        "colab": {
          "base_uri": "https://localhost:8080/",
          "height": 195
        },
        "outputId": "32b1ecd4-273e-497d-df3b-30b7349b4741"
      },
      "source": [
        "web_book_data.head()"
      ],
      "execution_count": 58,
      "outputs": [
        {
          "output_type": "execute_result",
          "data": {
            "text/html": [
              "<div>\n",
              "<style scoped>\n",
              "    .dataframe tbody tr th:only-of-type {\n",
              "        vertical-align: middle;\n",
              "    }\n",
              "\n",
              "    .dataframe tbody tr th {\n",
              "        vertical-align: top;\n",
              "    }\n",
              "\n",
              "    .dataframe thead th {\n",
              "        text-align: right;\n",
              "    }\n",
              "</style>\n",
              "<table border=\"1\" class=\"dataframe\">\n",
              "  <thead>\n",
              "    <tr style=\"text-align: right;\">\n",
              "      <th></th>\n",
              "      <th>book_id</th>\n",
              "      <th>title</th>\n",
              "      <th>image_url</th>\n",
              "      <th>authors</th>\n",
              "    </tr>\n",
              "  </thead>\n",
              "  <tbody>\n",
              "    <tr>\n",
              "      <th>0</th>\n",
              "      <td>1</td>\n",
              "      <td>The Hunger Games (The Hunger Games, #1)</td>\n",
              "      <td>https://images.gr-assets.com/books/1447303603m...</td>\n",
              "      <td>Suzanne Collins</td>\n",
              "    </tr>\n",
              "    <tr>\n",
              "      <th>1</th>\n",
              "      <td>2</td>\n",
              "      <td>Harry Potter and the Sorcerer's Stone (Harry P...</td>\n",
              "      <td>https://images.gr-assets.com/books/1474154022m...</td>\n",
              "      <td>J.K. Rowling, Mary GrandPré</td>\n",
              "    </tr>\n",
              "    <tr>\n",
              "      <th>2</th>\n",
              "      <td>3</td>\n",
              "      <td>Twilight (Twilight, #1)</td>\n",
              "      <td>https://images.gr-assets.com/books/1361039443m...</td>\n",
              "      <td>Stephenie Meyer</td>\n",
              "    </tr>\n",
              "    <tr>\n",
              "      <th>3</th>\n",
              "      <td>4</td>\n",
              "      <td>To Kill a Mockingbird</td>\n",
              "      <td>https://images.gr-assets.com/books/1361975680m...</td>\n",
              "      <td>Harper Lee</td>\n",
              "    </tr>\n",
              "    <tr>\n",
              "      <th>4</th>\n",
              "      <td>5</td>\n",
              "      <td>The Great Gatsby</td>\n",
              "      <td>https://images.gr-assets.com/books/1490528560m...</td>\n",
              "      <td>F. Scott Fitzgerald</td>\n",
              "    </tr>\n",
              "  </tbody>\n",
              "</table>\n",
              "</div>"
            ],
            "text/plain": [
              "   book_id  ...                      authors\n",
              "0        1  ...              Suzanne Collins\n",
              "1        2  ...  J.K. Rowling, Mary GrandPré\n",
              "2        3  ...              Stephenie Meyer\n",
              "3        4  ...                   Harper Lee\n",
              "4        5  ...          F. Scott Fitzgerald\n",
              "\n",
              "[5 rows x 4 columns]"
            ]
          },
          "metadata": {
            "tags": []
          },
          "execution_count": 58
        }
      ]
    },
    {
      "cell_type": "code",
      "metadata": {
        "id": "_Vywl39hcQlF"
      },
      "source": [
        "web_book_data.to_json(r'web_book_data.json', orient='records')"
      ],
      "execution_count": 59,
      "outputs": []
    }
  ]
}